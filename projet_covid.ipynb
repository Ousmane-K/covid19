{
  "nbformat": 4,
  "nbformat_minor": 0,
  "metadata": {
    "colab": {
      "name": "projet_covid.ipynb",
      "provenance": [],
      "collapsed_sections": [],
      "toc_visible": true
    },
    "kernelspec": {
      "name": "python3",
      "display_name": "Python 3"
    }
  },
  "cells": [
    {
      "cell_type": "markdown",
      "metadata": {
        "id": "dQ8asCBL58jQ"
      },
      "source": [
        "##**Projet sur le COVID:**\n",
        "Analyse et prédiction des infections COVID-19"
      ]
    },
    {
      "cell_type": "code",
      "metadata": {
        "id": "arJUl55056UM"
      },
      "source": [
        "import pandas as pd\n",
        "import matplotlib.pyplot as plt\n",
        "import numpy as np\n",
        "from sklearn.decomposition import PCA\n",
        "from sklearn.discriminant_analysis import LinearDiscriminantAnalysis as lda"
      ],
      "execution_count": null,
      "outputs": []
    },
    {
      "cell_type": "code",
      "metadata": {
        "colab": {
          "base_uri": "https://localhost:8080/",
          "height": 309
        },
        "id": "oJqiyo-8B7ui",
        "outputId": "ef2094dc-d805-4ffa-f983-716ba5f8af9f"
      },
      "source": [
        "#Importation des données\n",
        "data=pd.read_csv('/content/drive/MyDrive/Colab Notebooks/TP6_SDN_COVID19/clean-hubei.csv',delimiter=',')\n",
        "data.head()"
      ],
      "execution_count": null,
      "outputs": [
        {
          "output_type": "execute_result",
          "data": {
            "text/html": [
              "<div>\n",
              "<style scoped>\n",
              "    .dataframe tbody tr th:only-of-type {\n",
              "        vertical-align: middle;\n",
              "    }\n",
              "\n",
              "    .dataframe tbody tr th {\n",
              "        vertical-align: top;\n",
              "    }\n",
              "\n",
              "    .dataframe thead th {\n",
              "        text-align: right;\n",
              "    }\n",
              "</style>\n",
              "<table border=\"1\" class=\"dataframe\">\n",
              "  <thead>\n",
              "    <tr style=\"text-align: right;\">\n",
              "      <th></th>\n",
              "      <th>id</th>\n",
              "      <th>age</th>\n",
              "      <th>sex</th>\n",
              "      <th>city</th>\n",
              "      <th>province</th>\n",
              "      <th>country</th>\n",
              "      <th>latitude</th>\n",
              "      <th>longitude</th>\n",
              "      <th>geo_resolution</th>\n",
              "      <th>date_onset_symptoms</th>\n",
              "      <th>date_admission_hospital</th>\n",
              "      <th>date_confirmation</th>\n",
              "      <th>symptoms</th>\n",
              "      <th>lives_in_wuhan</th>\n",
              "      <th>travel_history_dates</th>\n",
              "      <th>travel_history_location</th>\n",
              "      <th>reported_market_exposure</th>\n",
              "      <th>additional_information</th>\n",
              "      <th>chronic_disease_binary</th>\n",
              "      <th>chronic_disease</th>\n",
              "      <th>source</th>\n",
              "      <th>sequence_available</th>\n",
              "      <th>outcome</th>\n",
              "      <th>date_death_or_discharge</th>\n",
              "      <th>notes_for_discussion</th>\n",
              "      <th>location</th>\n",
              "      <th>admin3</th>\n",
              "      <th>admin2</th>\n",
              "      <th>admin1</th>\n",
              "      <th>country_new</th>\n",
              "      <th>admin_id</th>\n",
              "    </tr>\n",
              "  </thead>\n",
              "  <tbody>\n",
              "    <tr>\n",
              "      <th>0</th>\n",
              "      <td>1</td>\n",
              "      <td>15-88</td>\n",
              "      <td>male</td>\n",
              "      <td>Wuhan City</td>\n",
              "      <td>Hubei</td>\n",
              "      <td>China</td>\n",
              "      <td>30.596415</td>\n",
              "      <td>114.27978</td>\n",
              "      <td>point</td>\n",
              "      <td>- 18.01.2020</td>\n",
              "      <td>NaN</td>\n",
              "      <td>20.01.2020</td>\n",
              "      <td>NaN</td>\n",
              "      <td>NaN</td>\n",
              "      <td>NaN</td>\n",
              "      <td>NaN</td>\n",
              "      <td>NaN</td>\n",
              "      <td>NaN</td>\n",
              "      <td>NaN</td>\n",
              "      <td>NaN</td>\n",
              "      <td>http://wjw.wuhan.gov.cn/front/web/showDetail/2...</td>\n",
              "      <td>NaN</td>\n",
              "      <td>NaN</td>\n",
              "      <td>NaN</td>\n",
              "      <td>NaN</td>\n",
              "      <td>NaN</td>\n",
              "      <td>NaN</td>\n",
              "      <td>Wuhan City</td>\n",
              "      <td>Hubei</td>\n",
              "      <td>China</td>\n",
              "      <td>420100</td>\n",
              "    </tr>\n",
              "    <tr>\n",
              "      <th>1</th>\n",
              "      <td>2</td>\n",
              "      <td>15-88</td>\n",
              "      <td>male</td>\n",
              "      <td>Wuhan City</td>\n",
              "      <td>Hubei</td>\n",
              "      <td>China</td>\n",
              "      <td>30.596415</td>\n",
              "      <td>114.27978</td>\n",
              "      <td>point</td>\n",
              "      <td>- 18.01.2020</td>\n",
              "      <td>NaN</td>\n",
              "      <td>20.01.2020</td>\n",
              "      <td>NaN</td>\n",
              "      <td>NaN</td>\n",
              "      <td>NaN</td>\n",
              "      <td>NaN</td>\n",
              "      <td>NaN</td>\n",
              "      <td>NaN</td>\n",
              "      <td>NaN</td>\n",
              "      <td>NaN</td>\n",
              "      <td>http://wjw.wuhan.gov.cn/front/web/showDetail/2...</td>\n",
              "      <td>NaN</td>\n",
              "      <td>NaN</td>\n",
              "      <td>NaN</td>\n",
              "      <td>NaN</td>\n",
              "      <td>NaN</td>\n",
              "      <td>NaN</td>\n",
              "      <td>Wuhan City</td>\n",
              "      <td>Hubei</td>\n",
              "      <td>China</td>\n",
              "      <td>420100</td>\n",
              "    </tr>\n",
              "    <tr>\n",
              "      <th>2</th>\n",
              "      <td>3</td>\n",
              "      <td>15-88</td>\n",
              "      <td>male</td>\n",
              "      <td>Wuhan City</td>\n",
              "      <td>Hubei</td>\n",
              "      <td>China</td>\n",
              "      <td>30.596415</td>\n",
              "      <td>114.27978</td>\n",
              "      <td>point</td>\n",
              "      <td>- 18.01.2020</td>\n",
              "      <td>NaN</td>\n",
              "      <td>20.01.2020</td>\n",
              "      <td>NaN</td>\n",
              "      <td>NaN</td>\n",
              "      <td>NaN</td>\n",
              "      <td>NaN</td>\n",
              "      <td>NaN</td>\n",
              "      <td>NaN</td>\n",
              "      <td>NaN</td>\n",
              "      <td>NaN</td>\n",
              "      <td>http://wjw.wuhan.gov.cn/front/web/showDetail/2...</td>\n",
              "      <td>NaN</td>\n",
              "      <td>NaN</td>\n",
              "      <td>NaN</td>\n",
              "      <td>NaN</td>\n",
              "      <td>NaN</td>\n",
              "      <td>NaN</td>\n",
              "      <td>Wuhan City</td>\n",
              "      <td>Hubei</td>\n",
              "      <td>China</td>\n",
              "      <td>420100</td>\n",
              "    </tr>\n",
              "    <tr>\n",
              "      <th>3</th>\n",
              "      <td>4</td>\n",
              "      <td>15-88</td>\n",
              "      <td>male</td>\n",
              "      <td>Wuhan City</td>\n",
              "      <td>Hubei</td>\n",
              "      <td>China</td>\n",
              "      <td>30.596415</td>\n",
              "      <td>114.27978</td>\n",
              "      <td>point</td>\n",
              "      <td>- 18.01.2020</td>\n",
              "      <td>NaN</td>\n",
              "      <td>20.01.2020</td>\n",
              "      <td>NaN</td>\n",
              "      <td>NaN</td>\n",
              "      <td>NaN</td>\n",
              "      <td>NaN</td>\n",
              "      <td>NaN</td>\n",
              "      <td>NaN</td>\n",
              "      <td>NaN</td>\n",
              "      <td>NaN</td>\n",
              "      <td>http://wjw.wuhan.gov.cn/front/web/showDetail/2...</td>\n",
              "      <td>NaN</td>\n",
              "      <td>NaN</td>\n",
              "      <td>NaN</td>\n",
              "      <td>NaN</td>\n",
              "      <td>NaN</td>\n",
              "      <td>NaN</td>\n",
              "      <td>Wuhan City</td>\n",
              "      <td>Hubei</td>\n",
              "      <td>China</td>\n",
              "      <td>420100</td>\n",
              "    </tr>\n",
              "    <tr>\n",
              "      <th>4</th>\n",
              "      <td>5</td>\n",
              "      <td>15-88</td>\n",
              "      <td>male</td>\n",
              "      <td>Wuhan City</td>\n",
              "      <td>Hubei</td>\n",
              "      <td>China</td>\n",
              "      <td>30.596415</td>\n",
              "      <td>114.27978</td>\n",
              "      <td>point</td>\n",
              "      <td>- 18.01.2020</td>\n",
              "      <td>NaN</td>\n",
              "      <td>20.01.2020</td>\n",
              "      <td>NaN</td>\n",
              "      <td>NaN</td>\n",
              "      <td>NaN</td>\n",
              "      <td>NaN</td>\n",
              "      <td>NaN</td>\n",
              "      <td>NaN</td>\n",
              "      <td>NaN</td>\n",
              "      <td>NaN</td>\n",
              "      <td>http://wjw.wuhan.gov.cn/front/web/showDetail/2...</td>\n",
              "      <td>NaN</td>\n",
              "      <td>NaN</td>\n",
              "      <td>NaN</td>\n",
              "      <td>NaN</td>\n",
              "      <td>NaN</td>\n",
              "      <td>NaN</td>\n",
              "      <td>Wuhan City</td>\n",
              "      <td>Hubei</td>\n",
              "      <td>China</td>\n",
              "      <td>420100</td>\n",
              "    </tr>\n",
              "  </tbody>\n",
              "</table>\n",
              "</div>"
            ],
            "text/plain": [
              "   id    age   sex        city  ...      admin2 admin1  country_new  admin_id\n",
              "0   1  15-88  male  Wuhan City  ...  Wuhan City  Hubei        China    420100\n",
              "1   2  15-88  male  Wuhan City  ...  Wuhan City  Hubei        China    420100\n",
              "2   3  15-88  male  Wuhan City  ...  Wuhan City  Hubei        China    420100\n",
              "3   4  15-88  male  Wuhan City  ...  Wuhan City  Hubei        China    420100\n",
              "4   5  15-88  male  Wuhan City  ...  Wuhan City  Hubei        China    420100\n",
              "\n",
              "[5 rows x 31 columns]"
            ]
          },
          "metadata": {
            "tags": []
          },
          "execution_count": 93
        }
      ]
    },
    {
      "cell_type": "code",
      "metadata": {
        "id": "pCPOmjsKHypn",
        "colab": {
          "base_uri": "https://localhost:8080/"
        },
        "outputId": "ec65f4ed-62ad-4654-ad55-97dd7a48a8f7"
      },
      "source": [
        "data.dtypes"
      ],
      "execution_count": null,
      "outputs": [
        {
          "output_type": "execute_result",
          "data": {
            "text/plain": [
              "id                            int64\n",
              "age                          object\n",
              "sex                          object\n",
              "city                         object\n",
              "province                     object\n",
              "country                      object\n",
              "latitude                    float64\n",
              "longitude                   float64\n",
              "geo_resolution               object\n",
              "date_onset_symptoms          object\n",
              "date_admission_hospital      object\n",
              "date_confirmation            object\n",
              "symptoms                     object\n",
              "lives_in_wuhan               object\n",
              "travel_history_dates        float64\n",
              "travel_history_location     float64\n",
              "reported_market_exposure     object\n",
              "additional_information       object\n",
              "chronic_disease_binary      float64\n",
              "chronic_disease              object\n",
              "source                       object\n",
              "sequence_available           object\n",
              "outcome                      object\n",
              "date_death_or_discharge      object\n",
              "notes_for_discussion        float64\n",
              "location                    float64\n",
              "admin3                       object\n",
              "admin2                       object\n",
              "admin1                       object\n",
              "country_new                  object\n",
              "admin_id                      int64\n",
              "dtype: object"
            ]
          },
          "metadata": {
            "tags": []
          },
          "execution_count": 94
        }
      ]
    },
    {
      "cell_type": "markdown",
      "metadata": {
        "id": "tFwmUUULF94N"
      },
      "source": [
        "**Valeurs manquantes:**"
      ]
    },
    {
      "cell_type": "code",
      "metadata": {
        "id": "qChFm4BjF78f",
        "colab": {
          "base_uri": "https://localhost:8080/"
        },
        "outputId": "55789d5a-b5c4-481a-9618-4ba1894ba202"
      },
      "source": [
        "val_man=data.isnull().sum()/data.shape[0]*100\n",
        "val_man"
      ],
      "execution_count": null,
      "outputs": [
        {
          "output_type": "execute_result",
          "data": {
            "text/plain": [
              "id                            0.000000\n",
              "age                          97.681302\n",
              "sex                          99.023187\n",
              "city                          0.000000\n",
              "province                      0.000000\n",
              "country                       0.000000\n",
              "latitude                      0.000000\n",
              "longitude                     0.000000\n",
              "geo_resolution                0.000000\n",
              "date_onset_symptoms          99.062654\n",
              "date_admission_hospital      99.595461\n",
              "date_confirmation             8.179576\n",
              "symptoms                     99.615195\n",
              "lives_in_wuhan               99.615195\n",
              "travel_history_dates        100.000000\n",
              "travel_history_location     100.000000\n",
              "reported_market_exposure     99.990133\n",
              "additional_information       99.782930\n",
              "chronic_disease_binary       99.782930\n",
              "chronic_disease              99.792797\n",
              "source                        0.000000\n",
              "sequence_available           99.980266\n",
              "outcome                      99.585594\n",
              "date_death_or_discharge      99.595461\n",
              "notes_for_discussion        100.000000\n",
              "location                    100.000000\n",
              "admin3                       97.444499\n",
              "admin2                        2.545634\n",
              "admin1                        0.000000\n",
              "country_new                   0.000000\n",
              "admin_id                      0.000000\n",
              "dtype: float64"
            ]
          },
          "metadata": {
            "tags": []
          },
          "execution_count": 95
        }
      ]
    },
    {
      "cell_type": "code",
      "metadata": {
        "id": "vrZPOiYExXOJ"
      },
      "source": [
        "\"\"\"\n",
        "Transformation en binaire de la variable 'chronic_disease_binary'\n",
        "On met à 1 si la valeur de la variable chronic_disease est non nulle ou si\n",
        "la valeur de la variable chronic_disease_binary elle meme vaut 1\n",
        "On met à 0 pour les valeurs manquantes\n",
        "\"\"\"\n",
        "data.loc[:,'chronic_disease_binary']=np.where(data.loc[:,'chronic_disease'].isnull()==False,1,data.loc[:,'chronic_disease_binary'])\n",
        "data.loc[:,'chronic_disease_binary']=data.loc[:,'chronic_disease_binary'].fillna(0)"
      ],
      "execution_count": null,
      "outputs": []
    },
    {
      "cell_type": "code",
      "metadata": {
        "id": "guYmkbCyN2_U"
      },
      "source": [
        "\"\"\"\n",
        "Transformation en binaire de la variable 'symptoms'\n",
        "On met à 1 si la valeur de la date de confirmation n'est pas nulle ou \n",
        "si la valeur de la date de début de symptoms n'est pas nulle \n",
        "On met à 0 si les 2 variables combinées ont pour valeur est nulle \n",
        "\"\"\"\n",
        "\n",
        "data.loc[:,'date_confirmation']=data.loc[:,'date_confirmation'].fillna(0)\n",
        "data.loc[:,'date_onset_symptoms']=data.loc[:,'date_onset_symptoms'].fillna(0)\n",
        "data.loc[:,'symptoms']=np.where(data.loc[:,'date_confirmation'].isnull()==False,1,data.loc[:,'symptoms'])\n",
        "data.loc[:,'symptoms']=np.where(data.loc[:,'date_onset_symptoms'].isnull()==False,1,data.loc[:,'symptoms'])\n",
        "data.loc[:,'symptoms']=np.where(data.loc[:,'date_confirmation'].values==0,0,data.loc[:,'symptoms'])\n",
        "data.loc[:,'symptoms']=data.loc[:,'symptoms'].fillna(0)"
      ],
      "execution_count": null,
      "outputs": []
    },
    {
      "cell_type": "code",
      "metadata": {
        "id": "goGGcEZqPdZq"
      },
      "source": [
        "\"\"\"\n",
        "Transformation en binaire de la variable 'sex'\n",
        "On met à 1 si la valeur est 'male' ou pour les valeurs manquantes la peronne vit à wuhan\n",
        "On met à 0 si la valeur est 'femelle' ou pour les autres valeurs manquantes\n",
        "\"\"\"\n",
        "data.loc[:,'sex']=np.where(data.loc[:,'sex'].values=='male',1,data.loc[:,'sex'])\n",
        "data.loc[:,'sex']=np.where(data.loc[:,'sex'].values=='female',0,data.loc[:,'sex'])\n",
        "data.loc[:,'sex']=data.loc[:,'sex'].fillna(data.loc[:,'sex'].median())"
      ],
      "execution_count": null,
      "outputs": []
    },
    {
      "cell_type": "code",
      "metadata": {
        "id": "5wOcsNPnRBR-"
      },
      "source": [
        "\"\"\"\n",
        "Transformation en binaire de la variable 'lives_in_wuhan'\n",
        "On met à 1 si la valeur est 'yes' ou pour les valeurs manquantes la peronne vit à wuhan\n",
        "On met à 0 si la valeur est 'no' ou pour les autres valeurs manquantes\n",
        "\"\"\"\n",
        "data.loc[:,'lives_in_wuhan']=np.where(data.loc[:,'lives_in_wuhan'].values=='yes',1,data.loc[:,'lives_in_wuhan'])\n",
        "data.loc[:,'lives_in_wuhan']=np.where(data.loc[:,'city'].values=='Wuhan City',1,data.loc[:,'lives_in_wuhan'])\n",
        "data.loc[:,'lives_in_wuhan']=np.where(data.loc[:,'lives_in_wuhan'].values=='no',0,data.loc[:,'lives_in_wuhan'])\n",
        "data.loc[:,'lives_in_wuhan']=data.loc[:,'lives_in_wuhan'].fillna(0)"
      ],
      "execution_count": null,
      "outputs": []
    },
    {
      "cell_type": "code",
      "metadata": {
        "id": "bPuvW7FxRBcG"
      },
      "source": [
        "\"\"\"\n",
        "Transformation en binaire de la variable 'outcome'\n",
        "On met à 1 si la valeur est 'died'\n",
        "On met à 0 si la valeur est 'discharged' ou pour les valeurs manquantes\n",
        "\"\"\"\n",
        "data.loc[:,'outcome']=np.where(data.loc[:,'outcome'].values=='died',1,data.loc[:,'outcome'])\n",
        "data.loc[:,'outcome']=np.where(data.loc[:,'outcome'].values=='discharged',0,data.loc[:,'outcome'])\n",
        "data.loc[:,'outcome']=np.where(data.loc[:,'outcome'].isnull()==True,0,data.loc[:,'outcome'])"
      ],
      "execution_count": null,
      "outputs": []
    },
    {
      "cell_type": "code",
      "metadata": {
        "id": "QEETvYioRBmB"
      },
      "source": [
        "\"\"\"\n",
        "Transformation de la variable 'age'\n",
        "\"\"\"\n",
        "data.loc[:,'age']=np.where(data.loc[:,'age'].values=='15-88',(15+88)//2,data.loc[:,'age'])\n",
        "data.loc[:,'age']=np.where(data.loc[:,'age'].values=='21-39',(21+39)//2,data.loc[:,'age'])\n",
        "data.loc[:,'age']=np.where(data.loc[:,'age'].values=='40-49',(40+49)//2,data.loc[:,'age'])\n",
        "data.loc[:,'age']=np.where(data.loc[:,'age'].values=='50-59',(50+59)//2,data.loc[:,'age'])\n",
        "data.loc[:,'age']=np.where(data.loc[:,'age'].values=='60-69',(60+69)//2,data.loc[:,'age'])\n",
        "data.loc[:,'age']=np.where(data.loc[:,'age'].values=='70-82',(70+82)//2,data.loc[:,'age'])\n",
        "data.loc[:,'age']=np.where(data.loc[:,'age'].values=='25-89',(25+89)//2,data.loc[:,'age'])\n",
        "data.loc[:,'age']=data.loc[:,'age'].fillna(data.loc[:,'age'].median())"
      ],
      "execution_count": null,
      "outputs": []
    },
    {
      "cell_type": "code",
      "metadata": {
        "id": "oDaunyRVRHtS"
      },
      "source": [
        "\"\"\"\n",
        "Transformation variable sequence available\n",
        "\"\"\"\n",
        "data.loc[:,'sequence_available']=np.where(data.loc[:,'sequence_available'].isnull()==False,1,data.loc[:,'sequence_available'])\n",
        "data.loc[:,'sequence_available']=data.loc[:,'sequence_available'].fillna(0)"
      ],
      "execution_count": null,
      "outputs": []
    },
    {
      "cell_type": "code",
      "metadata": {
        "id": "I7052XimRMJR"
      },
      "source": [
        "data.loc[:,'age']=pd.to_numeric(data.loc[:,'age'], downcast='integer')\n",
        "data.loc[:,'outcome']=pd.to_numeric(data.loc[:,'outcome'], downcast='integer')\n",
        "data.loc[:,'symptoms']=pd.to_numeric(data.loc[:,'symptoms'], downcast='integer')"
      ],
      "execution_count": null,
      "outputs": []
    },
    {
      "cell_type": "code",
      "metadata": {
        "id": "2vxYCxnOJ7C3"
      },
      "source": [
        "\"\"\"\n",
        "On supprime les colonnes qui sont pas représentatives ici.\n",
        "En plus les colonnes 'chronic_disease','additional_information' \n",
        "sont déja représentées par la colonne 'chronic_disease_binary' \n",
        "donc on peut les supprimer\n",
        "Aussi admin 1 n'a que Hubei comme valeur donc on la supprime\n",
        "'reported_market_exposure' n'a qu'une seule donnée où on a une valeur le reste ce sont des valeurs manquantes\n",
        "\"\"\"\n",
        "data=data.drop(columns=['source','city','province','country','date_onset_symptoms','date_admission_hospital','date_confirmation','admin2','admin3',\\\n",
        "                        'location','notes_for_discussion','travel_history_dates','travel_history_location','id','admin_id',\\\n",
        "                        'geo_resolution','date_death_or_discharge','chronic_disease','additional_information','country_new','admin1','reported_market_exposure'])"
      ],
      "execution_count": null,
      "outputs": []
    },
    {
      "cell_type": "code",
      "metadata": {
        "id": "uwxxmKkBHiA3",
        "colab": {
          "base_uri": "https://localhost:8080/",
          "height": 204
        },
        "outputId": "f5f94d43-a205-44b4-844e-a92785c3cae6"
      },
      "source": [
        "data.head()"
      ],
      "execution_count": null,
      "outputs": [
        {
          "output_type": "execute_result",
          "data": {
            "text/html": [
              "<div>\n",
              "<style scoped>\n",
              "    .dataframe tbody tr th:only-of-type {\n",
              "        vertical-align: middle;\n",
              "    }\n",
              "\n",
              "    .dataframe tbody tr th {\n",
              "        vertical-align: top;\n",
              "    }\n",
              "\n",
              "    .dataframe thead th {\n",
              "        text-align: right;\n",
              "    }\n",
              "</style>\n",
              "<table border=\"1\" class=\"dataframe\">\n",
              "  <thead>\n",
              "    <tr style=\"text-align: right;\">\n",
              "      <th></th>\n",
              "      <th>age</th>\n",
              "      <th>sex</th>\n",
              "      <th>latitude</th>\n",
              "      <th>longitude</th>\n",
              "      <th>symptoms</th>\n",
              "      <th>lives_in_wuhan</th>\n",
              "      <th>chronic_disease_binary</th>\n",
              "      <th>sequence_available</th>\n",
              "      <th>outcome</th>\n",
              "    </tr>\n",
              "  </thead>\n",
              "  <tbody>\n",
              "    <tr>\n",
              "      <th>0</th>\n",
              "      <td>51</td>\n",
              "      <td>1.0</td>\n",
              "      <td>30.596415</td>\n",
              "      <td>114.27978</td>\n",
              "      <td>1</td>\n",
              "      <td>1</td>\n",
              "      <td>0.0</td>\n",
              "      <td>0</td>\n",
              "      <td>0</td>\n",
              "    </tr>\n",
              "    <tr>\n",
              "      <th>1</th>\n",
              "      <td>51</td>\n",
              "      <td>1.0</td>\n",
              "      <td>30.596415</td>\n",
              "      <td>114.27978</td>\n",
              "      <td>1</td>\n",
              "      <td>1</td>\n",
              "      <td>0.0</td>\n",
              "      <td>0</td>\n",
              "      <td>0</td>\n",
              "    </tr>\n",
              "    <tr>\n",
              "      <th>2</th>\n",
              "      <td>51</td>\n",
              "      <td>1.0</td>\n",
              "      <td>30.596415</td>\n",
              "      <td>114.27978</td>\n",
              "      <td>1</td>\n",
              "      <td>1</td>\n",
              "      <td>0.0</td>\n",
              "      <td>0</td>\n",
              "      <td>0</td>\n",
              "    </tr>\n",
              "    <tr>\n",
              "      <th>3</th>\n",
              "      <td>51</td>\n",
              "      <td>1.0</td>\n",
              "      <td>30.596415</td>\n",
              "      <td>114.27978</td>\n",
              "      <td>1</td>\n",
              "      <td>1</td>\n",
              "      <td>0.0</td>\n",
              "      <td>0</td>\n",
              "      <td>0</td>\n",
              "    </tr>\n",
              "    <tr>\n",
              "      <th>4</th>\n",
              "      <td>51</td>\n",
              "      <td>1.0</td>\n",
              "      <td>30.596415</td>\n",
              "      <td>114.27978</td>\n",
              "      <td>1</td>\n",
              "      <td>1</td>\n",
              "      <td>0.0</td>\n",
              "      <td>0</td>\n",
              "      <td>0</td>\n",
              "    </tr>\n",
              "  </tbody>\n",
              "</table>\n",
              "</div>"
            ],
            "text/plain": [
              "   age  sex   latitude  ...  chronic_disease_binary  sequence_available  outcome\n",
              "0   51  1.0  30.596415  ...                     0.0                   0        0\n",
              "1   51  1.0  30.596415  ...                     0.0                   0        0\n",
              "2   51  1.0  30.596415  ...                     0.0                   0        0\n",
              "3   51  1.0  30.596415  ...                     0.0                   0        0\n",
              "4   51  1.0  30.596415  ...                     0.0                   0        0\n",
              "\n",
              "[5 rows x 9 columns]"
            ]
          },
          "metadata": {
            "tags": []
          },
          "execution_count": 105
        }
      ]
    },
    {
      "cell_type": "code",
      "metadata": {
        "id": "AO8rv86_BQYQ",
        "colab": {
          "base_uri": "https://localhost:8080/",
          "height": 348
        },
        "outputId": "1e03d33f-89e3-433d-f68b-7feb81220587"
      },
      "source": [
        "#Question 1 (Correlation)\n",
        "data.corr()"
      ],
      "execution_count": null,
      "outputs": [
        {
          "output_type": "execute_result",
          "data": {
            "text/html": [
              "<div>\n",
              "<style scoped>\n",
              "    .dataframe tbody tr th:only-of-type {\n",
              "        vertical-align: middle;\n",
              "    }\n",
              "\n",
              "    .dataframe tbody tr th {\n",
              "        vertical-align: top;\n",
              "    }\n",
              "\n",
              "    .dataframe thead th {\n",
              "        text-align: right;\n",
              "    }\n",
              "</style>\n",
              "<table border=\"1\" class=\"dataframe\">\n",
              "  <thead>\n",
              "    <tr style=\"text-align: right;\">\n",
              "      <th></th>\n",
              "      <th>age</th>\n",
              "      <th>sex</th>\n",
              "      <th>latitude</th>\n",
              "      <th>longitude</th>\n",
              "      <th>symptoms</th>\n",
              "      <th>lives_in_wuhan</th>\n",
              "      <th>chronic_disease_binary</th>\n",
              "      <th>sequence_available</th>\n",
              "      <th>outcome</th>\n",
              "    </tr>\n",
              "  </thead>\n",
              "  <tbody>\n",
              "    <tr>\n",
              "      <th>age</th>\n",
              "      <td>1.000000</td>\n",
              "      <td>-0.107819</td>\n",
              "      <td>-0.009758</td>\n",
              "      <td>0.013840</td>\n",
              "      <td>-0.095090</td>\n",
              "      <td>0.034166</td>\n",
              "      <td>0.512736</td>\n",
              "      <td>0.007024</td>\n",
              "      <td>0.555218</td>\n",
              "    </tr>\n",
              "    <tr>\n",
              "      <th>sex</th>\n",
              "      <td>-0.107819</td>\n",
              "      <td>1.000000</td>\n",
              "      <td>0.017169</td>\n",
              "      <td>-0.022980</td>\n",
              "      <td>0.045416</td>\n",
              "      <td>-0.059353</td>\n",
              "      <td>-0.242494</td>\n",
              "      <td>-0.112584</td>\n",
              "      <td>-0.326516</td>\n",
              "    </tr>\n",
              "    <tr>\n",
              "      <th>latitude</th>\n",
              "      <td>-0.009758</td>\n",
              "      <td>0.017169</td>\n",
              "      <td>1.000000</td>\n",
              "      <td>-0.547967</td>\n",
              "      <td>0.040423</td>\n",
              "      <td>-0.279284</td>\n",
              "      <td>-0.012805</td>\n",
              "      <td>-0.003948</td>\n",
              "      <td>-0.017396</td>\n",
              "    </tr>\n",
              "    <tr>\n",
              "      <th>longitude</th>\n",
              "      <td>0.013840</td>\n",
              "      <td>-0.022980</td>\n",
              "      <td>-0.547967</td>\n",
              "      <td>1.000000</td>\n",
              "      <td>-0.013775</td>\n",
              "      <td>0.435980</td>\n",
              "      <td>0.019990</td>\n",
              "      <td>0.006163</td>\n",
              "      <td>0.023382</td>\n",
              "    </tr>\n",
              "    <tr>\n",
              "      <th>symptoms</th>\n",
              "      <td>-0.095090</td>\n",
              "      <td>0.045416</td>\n",
              "      <td>0.040423</td>\n",
              "      <td>-0.013775</td>\n",
              "      <td>1.000000</td>\n",
              "      <td>-0.006536</td>\n",
              "      <td>-0.136834</td>\n",
              "      <td>-0.047071</td>\n",
              "      <td>-0.187933</td>\n",
              "    </tr>\n",
              "    <tr>\n",
              "      <th>lives_in_wuhan</th>\n",
              "      <td>0.034166</td>\n",
              "      <td>-0.059353</td>\n",
              "      <td>-0.279284</td>\n",
              "      <td>0.435980</td>\n",
              "      <td>-0.006536</td>\n",
              "      <td>1.000000</td>\n",
              "      <td>0.045851</td>\n",
              "      <td>0.014137</td>\n",
              "      <td>0.060192</td>\n",
              "    </tr>\n",
              "    <tr>\n",
              "      <th>chronic_disease_binary</th>\n",
              "      <td>0.512736</td>\n",
              "      <td>-0.242494</td>\n",
              "      <td>-0.012805</td>\n",
              "      <td>0.019990</td>\n",
              "      <td>-0.136834</td>\n",
              "      <td>0.045851</td>\n",
              "      <td>1.000000</td>\n",
              "      <td>-0.000640</td>\n",
              "      <td>0.723888</td>\n",
              "    </tr>\n",
              "    <tr>\n",
              "      <th>sequence_available</th>\n",
              "      <td>0.007024</td>\n",
              "      <td>-0.112584</td>\n",
              "      <td>-0.003948</td>\n",
              "      <td>0.006163</td>\n",
              "      <td>-0.047071</td>\n",
              "      <td>0.014137</td>\n",
              "      <td>-0.000640</td>\n",
              "      <td>1.000000</td>\n",
              "      <td>0.111151</td>\n",
              "    </tr>\n",
              "    <tr>\n",
              "      <th>outcome</th>\n",
              "      <td>0.555218</td>\n",
              "      <td>-0.326516</td>\n",
              "      <td>-0.017396</td>\n",
              "      <td>0.023382</td>\n",
              "      <td>-0.187933</td>\n",
              "      <td>0.060192</td>\n",
              "      <td>0.723888</td>\n",
              "      <td>0.111151</td>\n",
              "      <td>1.000000</td>\n",
              "    </tr>\n",
              "  </tbody>\n",
              "</table>\n",
              "</div>"
            ],
            "text/plain": [
              "                             age       sex  ...  sequence_available   outcome\n",
              "age                     1.000000 -0.107819  ...            0.007024  0.555218\n",
              "sex                    -0.107819  1.000000  ...           -0.112584 -0.326516\n",
              "latitude               -0.009758  0.017169  ...           -0.003948 -0.017396\n",
              "longitude               0.013840 -0.022980  ...            0.006163  0.023382\n",
              "symptoms               -0.095090  0.045416  ...           -0.047071 -0.187933\n",
              "lives_in_wuhan          0.034166 -0.059353  ...            0.014137  0.060192\n",
              "chronic_disease_binary  0.512736 -0.242494  ...           -0.000640  0.723888\n",
              "sequence_available      0.007024 -0.112584  ...            1.000000  0.111151\n",
              "outcome                 0.555218 -0.326516  ...            0.111151  1.000000\n",
              "\n",
              "[9 rows x 9 columns]"
            ]
          },
          "metadata": {
            "tags": []
          },
          "execution_count": 106
        }
      ]
    },
    {
      "cell_type": "markdown",
      "metadata": {
        "id": "Tl9aS1BFU_Kl"
      },
      "source": [
        "**Correlation:**\n",
        "\n",
        "Les variables les plus correlés avec la cible 'outcome' sont les variables 'age':49.83%, 'Sex':32.65%  et 'chronic_disease_binary':72.38%\n",
        "\n",
        "Vu la réelle situation de la pandémie on peut donc dire que ces résultats sont cohérents."
      ]
    },
    {
      "cell_type": "markdown",
      "metadata": {
        "id": "X1bimnTxB3Cy"
      },
      "source": [
        "**REDUCTION DE DIMENSION**"
      ]
    },
    {
      "cell_type": "code",
      "metadata": {
        "colab": {
          "base_uri": "https://localhost:8080/",
          "height": 298
        },
        "id": "ijQCNbPQdz8s",
        "outputId": "0383e31e-69ad-4065-a0eb-d2cc53514dce"
      },
      "source": [
        "data2=data.drop(columns=['age','sex','chronic_disease_binary'])\n",
        "X=data2.drop(columns=['outcome'])\n",
        "#ACP visualisation des données\n",
        "pca = PCA(n_components=2)\n",
        "dataPCA = pca.fit_transform(data2)\n",
        "\n",
        "#Nuage de points PCA\n",
        "plt.figure()\n",
        "plt.scatter(dataPCA[:,0], dataPCA[:,1])\n",
        "plt.title('Visulation du jeu de données avec PCA')\n",
        "\n"
      ],
      "execution_count": null,
      "outputs": [
        {
          "output_type": "execute_result",
          "data": {
            "text/plain": [
              "Text(0.5, 1.0, 'Visulation du jeu de données avec PCA')"
            ]
          },
          "metadata": {
            "tags": []
          },
          "execution_count": 107
        },
        {
          "output_type": "display_data",
          "data": {
            "image/png": "[encoded data removed]",
            "text/plain": [
              "<Figure size 432x288 with 1 Axes>"
            ]
          },
          "metadata": {
            "tags": [],
            "needs_background": "light"
          }
        }
      ]
    },
    {
      "cell_type": "markdown",
      "metadata": {
        "id": "SikQ5DRMAztw"
      },
      "source": [
        "On pourrait tenter d'utiliser la LDA mais cette methode suppose que les données sont classées et que les classes suivent des distributions gaussiennes. Ce qui n'est certainement pas le cas avec ce dataset."
      ]
    },
    {
      "cell_type": "code",
      "metadata": {
        "id": "WhJ_nsCnpm6r"
      },
      "source": [
        "Y=data.loc[:,'outcome']\n"
      ],
      "execution_count": null,
      "outputs": []
    },
    {
      "cell_type": "markdown",
      "metadata": {
        "id": "5MzK2If0gFUA"
      },
      "source": [
        "Dans la suite, nous utilisons une méthode d'apprentissage automatique afin de prédire la classe : les patients\n",
        "sont soit «décédés» (‘died’) soit «sortis» (‘discharged’) de l'hôpital. Vous pouvez utiliser la classification par\n",
        "K-Nearest Neighbours (K-NN), l’arbre de decision ou le classificateur Bayes.\n",
        "3. Les résultats obtenus doivent être validés en utilisant certains indices externes comme l’erreur de\n",
        "prédiction (matrice de confusion et précision) ou d'autres comme Rappel, F-Measure, …"
      ]
    },
    {
      "cell_type": "code",
      "metadata": {
        "id": "qXTclW6VkmdD"
      },
      "source": [
        "from sklearn.metrics import confusion_matrix\n",
        "from sklearn.neighbors import KNeighborsClassifier\n",
        "from sklearn.naive_bayes import GaussianNB\n",
        "from sklearn import metrics\n",
        "from sklearn.model_selection import train_test_split"
      ],
      "execution_count": null,
      "outputs": []
    },
    {
      "cell_type": "markdown",
      "metadata": {
        "id": "Sg7t20DTa7qN"
      },
      "source": [
        "**Classification avec va non correlées KNN**"
      ]
    },
    {
      "cell_type": "code",
      "metadata": {
        "id": "YzfbZy6FbUSg"
      },
      "source": [
        "from sklearn.model_selection import train_test_split\n",
        "x=X\n",
        "y=Y"
      ],
      "execution_count": null,
      "outputs": []
    },
    {
      "cell_type": "code",
      "metadata": {
        "id": "Vxp1kMymb8ih"
      },
      "source": [
        "from sklearn.preprocessing import StandardScaler\n",
        "X_train,X_test,y_train,y_test=train_test_split(x,y)\n",
        "ss=StandardScaler()\n",
        "X_train=ss.fit_transform(X_train)\n",
        "X_test=ss.transform(X_test)"
      ],
      "execution_count": null,
      "outputs": []
    },
    {
      "cell_type": "code",
      "metadata": {
        "colab": {
          "base_uri": "https://localhost:8080/"
        },
        "id": "3mTng-WecNv9",
        "outputId": "2527a887-5dd1-47e4-c17d-a09503ae30af"
      },
      "source": [
        "knn=KNeighborsClassifier()\n",
        "knn.fit(X_train,y_train)\n",
        "pred=knn.predict(X_test)\n",
        "Cnf_1=confusion_matrix(y_test, pred)\n",
        "print(Cnf_1)"
      ],
      "execution_count": null,
      "outputs": [
        {
          "output_type": "stream",
          "text": [
            "[[2525    0]\n",
            " [   9    0]]\n"
          ],
          "name": "stdout"
        }
      ]
    },
    {
      "cell_type": "markdown",
      "metadata": {
        "id": "cHs1hWVed71k"
      },
      "source": [
        "**Classification avec va non correlés avec Bayes:**\n"
      ]
    },
    {
      "cell_type": "code",
      "metadata": {
        "colab": {
          "base_uri": "https://localhost:8080/"
        },
        "id": "jU2FcNoqeIHU",
        "outputId": "84a724b6-522a-464b-8236-aec7a618177d"
      },
      "source": [
        "bay = GaussianNB()\t\t\t\t\t\t\t\t\t\t#la fonction du Classifieur Bayesien Naïf inclut dans sklearn\n",
        "pred2= bay.fit(X_train, y_train).predict(X_test)\n",
        "Cnf_2=confusion_matrix(y_test, pred2)\n",
        "print(Cnf_2)\n"
      ],
      "execution_count": null,
      "outputs": [
        {
          "output_type": "stream",
          "text": [
            "[[1277 1248]\n",
            " [   1    8]]\n"
          ],
          "name": "stdout"
        }
      ]
    },
    {
      "cell_type": "markdown",
      "metadata": {
        "id": "nSVA94e0etyu"
      },
      "source": [
        "**Classification avec va non correlés avec arbre de décision:**"
      ]
    },
    {
      "cell_type": "code",
      "metadata": {
        "colab": {
          "base_uri": "https://localhost:8080/"
        },
        "id": "L4n3U1F7exw-",
        "outputId": "981eacfd-1e5a-419f-e96a-815787010271"
      },
      "source": [
        "from sklearn import tree\n",
        "from sklearn.tree import DecisionTreeClassifier # Import Decision Tree Classifier\n",
        "dtc=DecisionTreeClassifier()\n",
        "pred3=dtc.fit(X_train,y_train).predict(X_test)\n",
        "Cnf_3=confusion_matrix(y_test, pred3)\n",
        "print(Cnf_3)\n"
      ],
      "execution_count": null,
      "outputs": [
        {
          "output_type": "stream",
          "text": [
            "[[2525    0]\n",
            " [   9    0]]\n"
          ],
          "name": "stdout"
        }
      ]
    },
    {
      "cell_type": "markdown",
      "metadata": {
        "id": "SsTY90JmxHsA"
      },
      "source": [
        "**Commentaires**\n",
        "<br/> On constate que l'arbre de décision et le KNN prédisent bien la classe died et rien est prédit pour la classe discharged.\n",
        "<br/> Pour la CBN on a des précisions équilibrées mais on ne peut pas s'y fier car la CBN suppose que les classes ont une distribution gaussienne.  "
      ]
    },
    {
      "cell_type": "markdown",
      "metadata": {
        "id": "XRdn4kPty-t6"
      },
      "source": [
        "4. Utilisez la régression pour prédire l'âge (age) des personnes en fonction d'autres variables. Vous avez le\n",
        "choix sur ces variables explicatives ? Comment choisissez-vous ces variables ? Calculez la qualité de la\n",
        "prédiction à l'aide de l'erreur MSE (Mean Squared Error)."
      ]
    },
    {
      "cell_type": "code",
      "metadata": {
        "id": "Ki1wrJxO0XJQ"
      },
      "source": [
        "from sklearn.linear_model import LinearRegression as LR\n",
        "from sklearn.metrics import mean_squared_error, r2_score"
      ],
      "execution_count": null,
      "outputs": []
    },
    {
      "cell_type": "code",
      "metadata": {
        "id": "m1STmyJjyyvg"
      },
      "source": [
        "Y1=data.loc[:,'age'].values"
      ],
      "execution_count": null,
      "outputs": []
    },
    {
      "cell_type": "code",
      "metadata": {
        "id": "SShTj9engXcA"
      },
      "source": [
        "x1=data.drop(columns=['sex','outcome','age'])\n",
        "y1=Y1"
      ],
      "execution_count": null,
      "outputs": []
    },
    {
      "cell_type": "code",
      "metadata": {
        "id": "-I9sd4pciAwJ"
      },
      "source": [
        "X_train1,X_test1,y_train1,y_test1=train_test_split(x1,y1)\n",
        "X_train1=ss.fit_transform(X_train1)\n",
        "X_test1=ss.transform(X_test1)"
      ],
      "execution_count": null,
      "outputs": []
    },
    {
      "cell_type": "code",
      "metadata": {
        "colab": {
          "base_uri": "https://localhost:8080/"
        },
        "id": "E6pFb5z6jCtQ",
        "outputId": "8a0f6dc9-7692-4a92-da0a-bf2a5a8ca3cd"
      },
      "source": [
        "# Create linear regression object\n",
        "regr1 = LR()\n",
        "\n",
        "# Train the model\n",
        "\n",
        "\n",
        "# Make predictions \n",
        "pred_reg = regr1.fit(X_train1, y_train1).predict(X_test1)\n",
        "\n",
        "# The coefficients\n",
        "print('Coefficients: \\n', regr1.coef_)\n",
        "# The mean squared error\n",
        "print('Mean squared error: %.2f'\n",
        "      % mean_squared_error(y_test1, pred_reg))\n",
        "# The coefficient of determination: 1 is perfect prediction\n",
        "print('Coefficient of determination: %.2f'\n",
        "      % r2_score(y_test1, pred_reg))"
      ],
      "execution_count": null,
      "outputs": [
        {
          "output_type": "stream",
          "text": [
            "Coefficients: \n",
            " [-0.00100635 -0.00452291 -0.04469437  0.02322007  1.00547584  0.07802512]\n",
            "Mean squared error: 3.31\n",
            "Coefficient of determination: 0.14\n"
          ],
          "name": "stdout"
        }
      ]
    },
    {
      "cell_type": "markdown",
      "metadata": {
        "id": "NiLKeNGRj7m0"
      },
      "source": [
        "**Commentaires:**\n",
        "\n",
        "Le MSE de 1.84 montre que les age ne peut pas etre prédit par les autres variables qui lui sont pas correlées. "
      ]
    },
    {
      "cell_type": "markdown",
      "metadata": {
        "id": "ucEXbLRT6Cey"
      },
      "source": [
        "5. Appliquer trois méthodes de clustering (K-means, NMF et CAH) sur l'ensemble de données pour\n",
        "segmenter les personnes en différents groupes. Utilisez l'index de Silhouette pour connaître le meilleur\n",
        "nombre de clusters."
      ]
    },
    {
      "cell_type": "markdown",
      "metadata": {
        "id": "FPsZGToYj1Ru"
      },
      "source": [
        "**K-means**"
      ]
    },
    {
      "cell_type": "code",
      "metadata": {
        "id": "Ct1mx5sxnU-3"
      },
      "source": [
        "data_=ss.fit_transform(data)"
      ],
      "execution_count": null,
      "outputs": []
    },
    {
      "cell_type": "code",
      "metadata": {
        "id": "5FrlFn49j7MY",
        "colab": {
          "base_uri": "https://localhost:8080/",
          "height": 312
        },
        "outputId": "d8654170-f04c-45fd-fef4-1bfa2e510bf5"
      },
      "source": [
        "from sklearn.cluster import KMeans\n",
        "from sklearn.metrics import silhouette_score\n",
        "\n",
        "silhouette1=[]\n",
        "for i in range(2,11):\n",
        "  y_predict=KMeans(n_clusters=i,random_state=2).fit(data_).labels_\n",
        "  silhouette1.append(silhouette_score(data_, y_predict))\n",
        "\n",
        "print(\"le meilleur nombre de clusters pour KMEANS est :\",np.argmax(silhouette1)+2)\n",
        "plt.figure()\n",
        "plt.plot(range(2,11),silhouette1)\n",
        "plt.title('Silhouette score')\n",
        "plt.xlabel('valeurs de clusters')\n",
        "plt.ylabel('silhouette')\n",
        "plt.show()"
      ],
      "execution_count": null,
      "outputs": [
        {
          "output_type": "stream",
          "text": [
            "le meilleur nombre de clusters pour KMEANS est : 2\n"
          ],
          "name": "stdout"
        },
        {
          "output_type": "display_data",
          "data": {
            "image/png": "[encoded data removed]",
            "text/plain": [
              "<Figure size 432x288 with 1 Axes>"
            ]
          },
          "metadata": {
            "tags": [],
            "needs_background": "light"
          }
        }
      ]
    },
    {
      "cell_type": "markdown",
      "metadata": {
        "id": "D3w1AcgDm_gX"
      },
      "source": [
        "**NMF**"
      ]
    },
    {
      "cell_type": "code",
      "metadata": {
        "id": "82_LsQSwnHjD",
        "colab": {
          "base_uri": "https://localhost:8080/",
          "height": 312
        },
        "outputId": "c34c83be-7b1b-45e9-fa9f-ccd0ce4d45a9"
      },
      "source": [
        "from sklearn.decomposition import NMF\n",
        "\n",
        "silhouette2=[]\n",
        "for i in range(2,11):\n",
        "  W=NMF(n_components=i,init='random',random_state=0).fit_transform(data)\n",
        "  y_predict=np.argmax(W,axis=1)\n",
        "  silhouette2.append(silhouette_score(data, y_predict))\n",
        "\n",
        "print(\"le meilleur nombre de clusters pour NMF est :\",np.argmax(silhouette2)+2)\n",
        "plt.figure()\n",
        "plt.plot(range(2,11),silhouette2)\n",
        "plt.title('Silhouette score')\n",
        "plt.xlabel('valeurs de clusters')\n",
        "plt.ylabel('silhouette')\n",
        "plt.show()"
      ],
      "execution_count": null,
      "outputs": [
        {
          "output_type": "stream",
          "text": [
            "le meilleur nombre de clusters pour NMF est : 2\n"
          ],
          "name": "stdout"
        },
        {
          "output_type": "display_data",
          "data": {
            "image/png": "[encoded data removed]",
            "text/plain": [
              "<Figure size 432x288 with 1 Axes>"
            ]
          },
          "metadata": {
            "tags": [],
            "needs_background": "light"
          }
        }
      ]
    },
    {
      "cell_type": "markdown",
      "metadata": {
        "id": "9iFuNR-T4PKP"
      },
      "source": [
        "**CAH**"
      ]
    },
    {
      "cell_type": "code",
      "metadata": {
        "colab": {
          "base_uri": "https://localhost:8080/",
          "height": 312
        },
        "id": "Xas_wr_g5IKL",
        "outputId": "a9d45ccd-a419-4523-a420-d45cc7134185"
      },
      "source": [
        "from sklearn.cluster import AgglomerativeClustering as CAH\n",
        "\n",
        "silhouette3=[]\n",
        "for i in range(2,11):\n",
        "  model=CAH(n_clusters=i).fit(data)\n",
        "  y_predict=model.labels_\n",
        "  silhouette3.append(silhouette_score(data, y_predict))\n",
        "\n",
        "print(\"le meilleur nombre de clusters pour CAH est :\",np.argmax(silhouette3)+2)\n",
        "plt.figure()\n",
        "plt.plot(range(2,11),silhouette3)\n",
        "plt.title('Silhouette score')\n",
        "plt.xlabel('valeurs de clusters')\n",
        "plt.ylabel('silhouette')\n",
        "plt.show()"
      ],
      "execution_count": null,
      "outputs": [
        {
          "output_type": "stream",
          "text": [
            "le meilleur nombre de clusters pour CAH est : 2\n"
          ],
          "name": "stdout"
        },
        {
          "output_type": "display_data",
          "data": {
            "image/png": "[encoded data removed]",
            "text/plain": [
              "<Figure size 432x288 with 1 Axes>"
            ]
          },
          "metadata": {
            "tags": [],
            "needs_background": "light"
          }
        }
      ]
    },
    {
      "cell_type": "markdown",
      "metadata": {
        "id": "OS9_V9Gd_hpj"
      },
      "source": [
        "6.Visualisez les  résultats  à  l'aide  de  scatter  pour  analyser   visuellement  la  structure  de  clustering des  trois méthodes"
      ]
    },
    {
      "cell_type": "markdown",
      "metadata": {
        "id": "rfUkSANmAZTi"
      },
      "source": [
        "**KMEANS**"
      ]
    },
    {
      "cell_type": "code",
      "metadata": {
        "colab": {
          "base_uri": "https://localhost:8080/",
          "height": 281
        },
        "id": "X-w5W_ucALHY",
        "outputId": "7507e491-cf53-447e-fae0-6b8e4c821c7e"
      },
      "source": [
        "data3=pca.fit_transform(data_)\n",
        "y_kmeans=KMeans(n_clusters=2,random_state=2).fit(data3).labels_\n",
        "plt.scatter(data3[:,0],data3[:,1],c=y_kmeans)\n",
        "plt.xlim(-50,50)\n",
        "plt.ylim(-50,50)\n",
        "plt.title('clustering avec kmeans')\n",
        "plt.show()"
      ],
      "execution_count": null,
      "outputs": [
        {
          "output_type": "display_data",
          "data": {
            "image/png": "[encoded data removed]",
            "text/plain": [
              "<Figure size 432x288 with 1 Axes>"
            ]
          },
          "metadata": {
            "tags": [],
            "needs_background": "light"
          }
        }
      ]
    },
    {
      "cell_type": "markdown",
      "metadata": {
        "id": "myLMnaI3FrkM"
      },
      "source": [
        "**NMF**"
      ]
    },
    {
      "cell_type": "markdown",
      "metadata": {
        "id": "cY0cIvYXGXGC"
      },
      "source": [
        "On ne peut pas faire du NMF car le PCA appliqué à data donne des valeurs négatives"
      ]
    },
    {
      "cell_type": "markdown",
      "metadata": {
        "id": "gZMyJ5hLGfwo"
      },
      "source": [
        "**CAH**"
      ]
    },
    {
      "cell_type": "code",
      "metadata": {
        "colab": {
          "base_uri": "https://localhost:8080/",
          "height": 281
        },
        "id": "kdmRqOIhGhoW",
        "outputId": "e402fd98-6b28-45a2-e429-66bb924a8537"
      },
      "source": [
        "y_cah=CAH(n_clusters=2).fit(data).labels_\n",
        "plt.scatter(data3[:,0],data3[:,1],c=y_cah)\n",
        "plt.xlim(-60,60)\n",
        "plt.ylim(-60,60)\n",
        "plt.title('clustering avec cah')\n",
        "plt.show()\n"
      ],
      "execution_count": null,
      "outputs": [
        {
          "output_type": "display_data",
          "data": {
            "image/png": "[encoded data removed]",
            "text/plain": [
              "<Figure size 432x288 with 1 Axes>"
            ]
          },
          "metadata": {
            "tags": [],
            "needs_background": "light"
          }
        }
      ]
    },
    {
      "cell_type": "markdown",
      "metadata": {
        "id": "PH2jwl1eQ4da"
      },
      "source": [
        "7.Les  données  sont  déséquilibrées.  Vous  pouvez  les équilibrer  en  réduisant  aléatoirement  la  classe majoritaire. Supposons que vous extrayez aléatoirement des échantillons équilibrés. Comment les résultats de la prédiction changeront-ils?"
      ]
    },
    {
      "cell_type": "markdown",
      "metadata": {
        "id": "XlPiGUbbQ-3y"
      },
      "source": [
        "Lorsque les données sont déséquilibrées, la classe minoritaire n'est pas bien prédite ou bien elle n'est pas prédite du tout. Lorsqu'on les equilibre, on devrait avoir des classes ayant toutes les deux presque la même précision. Par contre on s'éloigne de la réalité"
      ]
    },
    {
      "cell_type": "markdown",
      "metadata": {
        "id": "ApfaD5Fyd_D4"
      },
      "source": [
        "8.Comment pouvez-vous mieux gérer ce déséquilibre entre les classes ? "
      ]
    },
    {
      "cell_type": "markdown",
      "metadata": {
        "id": "eawGfUGPeGRK"
      },
      "source": [
        ""
      ]
    },
    {
      "cell_type": "markdown",
      "metadata": {
        "id": "mOo-NYwA9abN"
      },
      "source": [
        "9. Pour trouver les meilleurs paramètres pour les modèles, l'algorithme Greedy Search peut être utilisé,\n",
        "disponible dans la bibliothèque scikit-learn. Expliquez l'algorithme et utilisez-le pour les modèles\n",
        "d'apprentissage choisis afin de trouver les meilleurs paramètres."
      ]
    },
    {
      "cell_type": "code",
      "metadata": {
        "colab": {
          "base_uri": "https://localhost:8080/"
        },
        "id": "Y_2TuH_79W9y",
        "outputId": "042e86b6-0b38-429d-e981-7c0c2ca2d2c7"
      },
      "source": [
        "from sklearn.model_selection import GridSearchCV\n",
        "\n",
        "#KNN grid\n",
        "knn_grid_params={'n_neighbors':[3,4,5],'weights':['uniform','distance'],'metric':['euclidean','manhattan']}\n",
        "knn_grid = GridSearchCV(KNeighborsClassifier(), knn_grid_params,verbose=1,cv=3,n_jobs=-1)\n",
        "knn_result=knn_grid.fit(X_train, y_train)\n",
        "print(knn_result.best_score_)\n",
        "print(knn_result.best_estimator_)\n",
        "print(knn_result.best_params_)\n"
      ],
      "execution_count": null,
      "outputs": [
        {
          "output_type": "stream",
          "text": [
            "Fitting 3 folds for each of 12 candidates, totalling 36 fits\n"
          ],
          "name": "stdout"
        },
        {
          "output_type": "stream",
          "text": [
            "[Parallel(n_jobs=-1)]: Using backend LokyBackend with 2 concurrent workers.\n"
          ],
          "name": "stderr"
        },
        {
          "output_type": "stream",
          "text": [
            "0.995921606434112\n",
            "KNeighborsClassifier(algorithm='auto', leaf_size=30, metric='euclidean',\n",
            "                     metric_params=None, n_jobs=None, n_neighbors=3, p=2,\n",
            "                     weights='uniform')\n",
            "{'metric': 'euclidean', 'n_neighbors': 3, 'weights': 'uniform'}\n"
          ],
          "name": "stdout"
        },
        {
          "output_type": "stream",
          "text": [
            "[Parallel(n_jobs=-1)]: Done  36 out of  36 | elapsed:    5.5s finished\n"
          ],
          "name": "stderr"
        }
      ]
    },
    {
      "cell_type": "code",
      "metadata": {
        "colab": {
          "base_uri": "https://localhost:8080/"
        },
        "id": "MuGbvQDTZhFQ",
        "outputId": "6e62e084-2d9a-4cef-b83c-d346b75cd7f8"
      },
      "source": [
        "#Decisiontreeclassifier grid\n",
        "dt_params = {'criterion': ['gini', 'entropy'],\\\n",
        "             'splitter': ['best', 'random'],\\\n",
        "             'max_depth': [3, 10, 25, 40, 50],\\\n",
        "             'min_samples_split': [2, 10, 25, 50, 50],\\\n",
        "             'min_samples_leaf': [1, 10, 25, 50, 50],\\\n",
        "             'max_features': ['auto', 'log2', None]}\n",
        "\n",
        "DT_grid = GridSearchCV(DecisionTreeClassifier(), dt_params,cv=10)\n",
        "DT_result=DT_grid.fit(X_train, y_train)\n",
        "print(DT_result.best_score_)\n",
        "print(DT_result.best_estimator_)\n",
        "print(DT_result.best_params_)"
      ],
      "execution_count": null,
      "outputs": [
        {
          "output_type": "stream",
          "text": [
            "0.9959217442423405\n",
            "DecisionTreeClassifier(ccp_alpha=0.0, class_weight=None, criterion='gini',\n",
            "                       max_depth=3, max_features='auto', max_leaf_nodes=None,\n",
            "                       min_impurity_decrease=0.0, min_impurity_split=None,\n",
            "                       min_samples_leaf=1, min_samples_split=2,\n",
            "                       min_weight_fraction_leaf=0.0, presort='deprecated',\n",
            "                       random_state=None, splitter='best')\n",
            "{'criterion': 'gini', 'max_depth': 3, 'max_features': 'auto', 'min_samples_leaf': 1, 'min_samples_split': 2, 'splitter': 'best'}\n"
          ],
          "name": "stdout"
        }
      ]
    },
    {
      "cell_type": "markdown",
      "metadata": {
        "id": "oNRxrDsRDjWu"
      },
      "source": [
        "**Explication Grid Search**\n",
        "\n",
        "GridSearch est un processus de réglage des hyper paramètres afin de déterminer les valeurs optimales pour un modèle donné. Ceci est important car les performances de l'ensemble du modèle sont basées sur les valeurs d'hyper paramètre spécifiées.\n",
        "\n",
        "Par exemple si on utilise le KNN comme modèle, l'algorithme prend en entré le modèle à utiliser,les paramètres. Ici ces paramètres sont:\n",
        "- **n_neighbors**, qui est le nombre de voisins\n",
        "- **des poids** qui peuvent être réglés soit sur **«uniforme»**, où chaque voisin à l’intérieur de la frontière porte le même poids, soit sur **«distance»** où les points les plus proches seront plus fortement pondérés dans la décision. \n",
        "- **metric** qui fait référence à la façon dont la distance des points voisins est choisie à partir du point inconnu. La modélisation étant généralement effectuée dans plus de 3 dimensions, cela peut être difficile à visualiser.\n",
        "\n",
        "Un processus de validation croisée est effectué ici 3 afin de déterminer l'ensemble de valeurs d'hyper-paramètre qui fournit les meilleurs niveaux de précision.\n",
        "\n",
        "Nous utilisons ensuite le meilleur ensemble de valeurs d'hyper-paramètres choisi dans la recherche de grille, dans le modèle réel comme indiqué ci-dessus"
      ]
    },
    {
      "cell_type": "markdown",
      "metadata": {
        "id": "TcXV9u_3o4O-"
      },
      "source": [
        "10. Présentez et expliquez le formalisme algorithmique et mathématique de la méthode qui donne les meilleurs\n",
        "résultats. Expliquez tous les paramètres de la méthode utilisée et leur impact sur les résultats."
      ]
    },
    {
      "cell_type": "markdown",
      "metadata": {
        "id": "l9ZJNDc7o5PT"
      },
      "source": [
        "La méthode qui donne les meilleurs résultats est la cross validation.\n",
        "\n",
        "La validation croisée à k blocs, « k-fold cross-validation » : \n",
        "- On divise l'échantillon original en k échantillons (ou « blocs »), puis on sélectionne un des k échantillons comme ensemble de validation pendant que les k-1 autres échantillons constituent l'ensemble d'apprentissage. \n",
        "- Après apprentissage, on peut calculer une performance de validation. Puis on répète l'opération en sélectionnant un autre échantillon de validation parmi les blocs prédéfinis.\n",
        "- À l'issue de la procédure nous obtenons ainsi k scores de performances, un par bloc. La moyenne et l'écart type des k scores de performances peuvent être calculés pour estimer le biais et la variance de la performance de validation."
      ]
    }
  ]
}